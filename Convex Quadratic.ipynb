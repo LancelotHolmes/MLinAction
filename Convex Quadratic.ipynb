{
 "cells": [
  {
   "cell_type": "markdown",
   "metadata": {},
   "source": [
    "针对《统计学习方法》一书的支持向量机章节的例题7.1，P103"
   ]
  },
  {
   "cell_type": "code",
   "execution_count": 1,
   "metadata": {
    "ExecuteTime": {
     "end_time": "2017-07-12T16:44:42.358937Z",
     "start_time": "2017-07-12T16:44:41.660824Z"
    },
    "collapsed": true
   },
   "outputs": [],
   "source": [
    "from cvxopt import solvers,matrix\n",
    "import numpy as np"
   ]
  },
  {
   "cell_type": "code",
   "execution_count": 16,
   "metadata": {
    "ExecuteTime": {
     "end_time": "2017-07-12T17:00:10.977069Z",
     "start_time": "2017-07-12T17:00:10.970400Z"
    },
    "collapsed": false
   },
   "outputs": [],
   "source": [
    "P = matrix(np.diag([1.0, 1.0, 0.0]))\n",
    "q = matrix(np.array([0.0, 0.0, 0.0]))\n",
    "G = matrix(np.array([[-3.0, -3.0, -1.0], [-4.0, -3.0, -1.0], [1.0, 1.0, 1.0]]))\n",
    "h = matrix(np.array([-1.0, -1.0, -1.0]))"
   ]
  },
  {
   "cell_type": "code",
   "execution_count": 17,
   "metadata": {
    "ExecuteTime": {
     "end_time": "2017-07-12T17:00:11.521330Z",
     "start_time": "2017-07-12T17:00:11.403949Z"
    },
    "collapsed": false
   },
   "outputs": [
    {
     "name": "stdout",
     "output_type": "stream",
     "text": [
      "     pcost       dcost       gap    pres   dres\n",
      " 0:  1.4507e-01  7.1106e-01  4e+00  1e+00  8e+00\n",
      " 1:  5.9278e-01  1.4232e-01  5e-01  5e-16  2e-15\n",
      " 2:  2.7513e-01  2.3773e-01  4e-02  3e-16  1e-15\n",
      " 3:  2.5037e-01  2.4959e-01  8e-04  3e-16  5e-16\n",
      " 4:  2.5000e-01  2.5000e-01  8e-06  2e-16  7e-16\n",
      " 5:  2.5000e-01  2.5000e-01  8e-08  4e-16  2e-15\n",
      "Optimal solution found.\n"
     ]
    }
   ],
   "source": [
    "sol = solvers.qp(P,q,G,h)"
   ]
  },
  {
   "cell_type": "code",
   "execution_count": 18,
   "metadata": {
    "ExecuteTime": {
     "end_time": "2017-07-12T17:00:32.174142Z",
     "start_time": "2017-07-12T17:00:32.169554Z"
    },
    "collapsed": false
   },
   "outputs": [
    {
     "name": "stdout",
     "output_type": "stream",
     "text": [
      "[ 5.00e-01]\n",
      "[ 5.00e-01]\n",
      "[-2.00e+00]\n",
      "\n"
     ]
    }
   ],
   "source": [
    "print sol['x']"
   ]
  },
  {
   "cell_type": "code",
   "execution_count": null,
   "metadata": {
    "collapsed": true
   },
   "outputs": [],
   "source": []
  }
 ],
 "metadata": {
  "kernelspec": {
   "display_name": "Python 2",
   "language": "python",
   "name": "python2"
  },
  "language_info": {
   "codemirror_mode": {
    "name": "ipython",
    "version": 2
   },
   "file_extension": ".py",
   "mimetype": "text/x-python",
   "name": "python",
   "nbconvert_exporter": "python",
   "pygments_lexer": "ipython2",
   "version": "2.7.13"
  }
 },
 "nbformat": 4,
 "nbformat_minor": 2
}
